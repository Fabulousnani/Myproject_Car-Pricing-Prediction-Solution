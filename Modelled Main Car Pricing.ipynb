{
 "cells": [
  {
   "cell_type": "markdown",
   "id": "85385b55",
   "metadata": {},
   "source": [
    "## Installing Pyodbc Library"
   ]
  },
  {
   "cell_type": "code",
   "execution_count": 1,
   "id": "0c779139",
   "metadata": {},
   "outputs": [
    {
     "name": "stdout",
     "output_type": "stream",
     "text": [
      "Requirement already satisfied: pyodbc in c:\\users\\dell\\anaconda3\\lib\\site-packages (4.0.0-unsupported)\n"
     ]
    }
   ],
   "source": [
    "!pip install pyodbc"
   ]
  },
  {
   "cell_type": "markdown",
   "id": "6c65313a",
   "metadata": {},
   "source": [
    "## importing libraries\n",
    "\n"
   ]
  },
  {
   "cell_type": "code",
   "execution_count": 2,
   "id": "679422ff",
   "metadata": {},
   "outputs": [],
   "source": [
    "import pandas as pd\n",
    "import pyodbc "
   ]
  },
  {
   "cell_type": "markdown",
   "id": "1211cbc0",
   "metadata": {},
   "source": [
    "## Creating connection to Database"
   ]
  },
  {
   "cell_type": "code",
   "execution_count": 3,
   "id": "aa1b9a8e",
   "metadata": {},
   "outputs": [],
   "source": [
    "conn = pyodbc.connect(r'Driver=SQL server;server=.\\SQLEXPRESS;Database=Practice;Trusted_connection=yes;')\n",
    "cursor= conn.cursor()"
   ]
  },
  {
   "cell_type": "markdown",
   "id": "d5e85006",
   "metadata": {},
   "source": [
    "## Read data from database"
   ]
  },
  {
   "cell_type": "code",
   "execution_count": 5,
   "id": "1f4a07bd",
   "metadata": {},
   "outputs": [],
   "source": [
    "data = pd.read_sql_query(\n",
    "'''select * from kaggle.carpricing''',conn\n",
    ")\n",
    "\n",
    "data_df = pd.DataFrame(data)\n",
    "\n"
   ]
  },
  {
   "cell_type": "code",
   "execution_count": 7,
   "id": "38839a2a",
   "metadata": {},
   "outputs": [
    {
     "data": {
      "text/html": [
       "<div>\n",
       "<style scoped>\n",
       "    .dataframe tbody tr th:only-of-type {\n",
       "        vertical-align: middle;\n",
       "    }\n",
       "\n",
       "    .dataframe tbody tr th {\n",
       "        vertical-align: top;\n",
       "    }\n",
       "\n",
       "    .dataframe thead th {\n",
       "        text-align: right;\n",
       "    }\n",
       "</style>\n",
       "<table border=\"1\" class=\"dataframe\">\n",
       "  <thead>\n",
       "    <tr style=\"text-align: right;\">\n",
       "      <th></th>\n",
       "      <th>Car_Name</th>\n",
       "      <th>Year</th>\n",
       "      <th>Present_Price</th>\n",
       "      <th>Kms_Driven</th>\n",
       "      <th>Fuel_Type</th>\n",
       "      <th>Seller_Type</th>\n",
       "      <th>Transmission</th>\n",
       "      <th>Owner</th>\n",
       "      <th>Selling_Price</th>\n",
       "    </tr>\n",
       "  </thead>\n",
       "  <tbody>\n",
       "    <tr>\n",
       "      <th>0</th>\n",
       "      <td>Bajaj Dominar 400</td>\n",
       "      <td>2017.0</td>\n",
       "      <td>11613.60</td>\n",
       "      <td>2612.0</td>\n",
       "      <td>Petrol</td>\n",
       "      <td>Individual</td>\n",
       "      <td>Manual</td>\n",
       "      <td>0.0</td>\n",
       "      <td>10913.45</td>\n",
       "    </tr>\n",
       "    <tr>\n",
       "      <th>1</th>\n",
       "      <td>Yamaha Fazer</td>\n",
       "      <td>2014.0</td>\n",
       "      <td>8417.88</td>\n",
       "      <td>8217.0</td>\n",
       "      <td>Petrol</td>\n",
       "      <td>Individual</td>\n",
       "      <td>Manual</td>\n",
       "      <td>0.0</td>\n",
       "      <td>7717.50</td>\n",
       "    </tr>\n",
       "    <tr>\n",
       "      <th>2</th>\n",
       "      <td>Yamaha FZ  v 2.0</td>\n",
       "      <td>2016.0</td>\n",
       "      <td>11814.84</td>\n",
       "      <td>26614.0</td>\n",
       "      <td>Petrol</td>\n",
       "      <td>Individual</td>\n",
       "      <td>Manual</td>\n",
       "      <td>0.0</td>\n",
       "      <td>11114.60</td>\n",
       "    </tr>\n",
       "    <tr>\n",
       "      <th>3</th>\n",
       "      <td>Honda Activa 4G</td>\n",
       "      <td>2017.0</td>\n",
       "      <td>11311.51</td>\n",
       "      <td>5111.0</td>\n",
       "      <td>Petrol</td>\n",
       "      <td>Individual</td>\n",
       "      <td>Automatic</td>\n",
       "      <td>0.0</td>\n",
       "      <td>10611.45</td>\n",
       "    </tr>\n",
       "    <tr>\n",
       "      <th>4</th>\n",
       "      <td>ciaz</td>\n",
       "      <td>2015.0</td>\n",
       "      <td>10484.92</td>\n",
       "      <td>42643.0</td>\n",
       "      <td>Diesel</td>\n",
       "      <td>Dealer</td>\n",
       "      <td>Manual</td>\n",
       "      <td>0.0</td>\n",
       "      <td>9783.45</td>\n",
       "    </tr>\n",
       "  </tbody>\n",
       "</table>\n",
       "</div>"
      ],
      "text/plain": [
       "            Car_Name    Year  Present_Price  Kms_Driven Fuel_Type Seller_Type  \\\n",
       "0  Bajaj Dominar 400  2017.0       11613.60      2612.0    Petrol  Individual   \n",
       "1      Yamaha Fazer   2014.0        8417.88      8217.0    Petrol  Individual   \n",
       "2   Yamaha FZ  v 2.0  2016.0       11814.84     26614.0    Petrol  Individual   \n",
       "3    Honda Activa 4G  2017.0       11311.51      5111.0    Petrol  Individual   \n",
       "4               ciaz  2015.0       10484.92     42643.0    Diesel      Dealer   \n",
       "\n",
       "  Transmission  Owner  Selling_Price  \n",
       "0       Manual    0.0       10913.45  \n",
       "1       Manual    0.0        7717.50  \n",
       "2       Manual    0.0       11114.60  \n",
       "3    Automatic    0.0       10611.45  \n",
       "4       Manual    0.0        9783.45  "
      ]
     },
     "execution_count": 7,
     "metadata": {},
     "output_type": "execute_result"
    }
   ],
   "source": [
    "data_df.head()"
   ]
  },
  {
   "cell_type": "markdown",
   "id": "e8eb18b4",
   "metadata": {},
   "source": [
    "# EXPLORATORY DATA ANALYSIS USING DATASIST LIBRARIES"
   ]
  },
  {
   "cell_type": "code",
   "execution_count": 8,
   "id": "6b148444",
   "metadata": {},
   "outputs": [
    {
     "name": "stdout",
     "output_type": "stream",
     "text": [
      "Requirement already satisfied: datasist in c:\\users\\dell\\anaconda3\\lib\\site-packages (1.5.3)\n",
      "Requirement already satisfied: nltk in c:\\users\\dell\\anaconda3\\lib\\site-packages (from datasist) (3.6.5)\n",
      "Requirement already satisfied: Joblib in c:\\users\\dell\\anaconda3\\lib\\site-packages (from datasist) (1.1.0)\n",
      "Requirement already satisfied: matplotlib in c:\\users\\dell\\anaconda3\\lib\\site-packages (from datasist) (3.4.3)\n",
      "Requirement already satisfied: pandas in c:\\users\\dell\\anaconda3\\lib\\site-packages (from datasist) (1.3.4)\n",
      "Requirement already satisfied: scikit-learn in c:\\users\\dell\\anaconda3\\lib\\site-packages (from datasist) (0.24.2)\n",
      "Requirement already satisfied: numpy in c:\\users\\dell\\anaconda3\\lib\\site-packages (from datasist) (1.20.3)\n",
      "Requirement already satisfied: jupyter in c:\\users\\dell\\anaconda3\\lib\\site-packages (from datasist) (1.0.0)\n",
      "Requirement already satisfied: seaborn in c:\\users\\dell\\anaconda3\\lib\\site-packages (from datasist) (0.11.2)\n",
      "Requirement already satisfied: ipykernel in c:\\users\\dell\\anaconda3\\lib\\site-packages (from jupyter->datasist) (6.4.1)\n",
      "Requirement already satisfied: jupyter-console in c:\\users\\dell\\anaconda3\\lib\\site-packages (from jupyter->datasist) (6.4.0)\n",
      "Requirement already satisfied: ipywidgets in c:\\users\\dell\\anaconda3\\lib\\site-packages (from jupyter->datasist) (7.6.5)\n",
      "Requirement already satisfied: notebook in c:\\users\\dell\\anaconda3\\lib\\site-packages (from jupyter->datasist) (6.4.5)\n",
      "Requirement already satisfied: qtconsole in c:\\users\\dell\\anaconda3\\lib\\site-packages (from jupyter->datasist) (5.1.1)\n",
      "Requirement already satisfied: nbconvert in c:\\users\\dell\\anaconda3\\lib\\site-packages (from jupyter->datasist) (6.1.0)\n",
      "Requirement already satisfied: matplotlib-inline<0.2.0,>=0.1.0 in c:\\users\\dell\\anaconda3\\lib\\site-packages (from ipykernel->jupyter->datasist) (0.1.2)\n",
      "Requirement already satisfied: ipython-genutils in c:\\users\\dell\\anaconda3\\lib\\site-packages (from ipykernel->jupyter->datasist) (0.2.0)\n",
      "Requirement already satisfied: ipython<8.0,>=7.23.1 in c:\\users\\dell\\anaconda3\\lib\\site-packages (from ipykernel->jupyter->datasist) (7.29.0)\n",
      "Requirement already satisfied: debugpy<2.0,>=1.0.0 in c:\\users\\dell\\anaconda3\\lib\\site-packages (from ipykernel->jupyter->datasist) (1.4.1)\n",
      "Requirement already satisfied: traitlets<6.0,>=4.1.0 in c:\\users\\dell\\anaconda3\\lib\\site-packages (from ipykernel->jupyter->datasist) (5.1.0)\n",
      "Requirement already satisfied: jupyter-client<8.0 in c:\\users\\dell\\anaconda3\\lib\\site-packages (from ipykernel->jupyter->datasist) (6.1.12)\n",
      "Requirement already satisfied: tornado<7.0,>=4.2 in c:\\users\\dell\\anaconda3\\lib\\site-packages (from ipykernel->jupyter->datasist) (6.1)\n",
      "Requirement already satisfied: colorama in c:\\users\\dell\\anaconda3\\lib\\site-packages (from ipython<8.0,>=7.23.1->ipykernel->jupyter->datasist) (0.4.4)\n",
      "Requirement already satisfied: prompt-toolkit!=3.0.0,!=3.0.1,<3.1.0,>=2.0.0 in c:\\users\\dell\\anaconda3\\lib\\site-packages (from ipython<8.0,>=7.23.1->ipykernel->jupyter->datasist) (3.0.20)\n",
      "Requirement already satisfied: decorator in c:\\users\\dell\\anaconda3\\lib\\site-packages (from ipython<8.0,>=7.23.1->ipykernel->jupyter->datasist) (5.1.0)\n",
      "Requirement already satisfied: setuptools>=18.5 in c:\\users\\dell\\anaconda3\\lib\\site-packages (from ipython<8.0,>=7.23.1->ipykernel->jupyter->datasist) (58.0.4)\n",
      "Requirement already satisfied: pygments in c:\\users\\dell\\anaconda3\\lib\\site-packages (from ipython<8.0,>=7.23.1->ipykernel->jupyter->datasist) (2.10.0)\n",
      "Requirement already satisfied: pickleshare in c:\\users\\dell\\anaconda3\\lib\\site-packages (from ipython<8.0,>=7.23.1->ipykernel->jupyter->datasist) (0.7.5)\n",
      "Requirement already satisfied: backcall in c:\\users\\dell\\anaconda3\\lib\\site-packages (from ipython<8.0,>=7.23.1->ipykernel->jupyter->datasist) (0.2.0)\n",
      "Requirement already satisfied: jedi>=0.16 in c:\\users\\dell\\anaconda3\\lib\\site-packages (from ipython<8.0,>=7.23.1->ipykernel->jupyter->datasist) (0.18.0)\n",
      "Requirement already satisfied: parso<0.9.0,>=0.8.0 in c:\\users\\dell\\anaconda3\\lib\\site-packages (from jedi>=0.16->ipython<8.0,>=7.23.1->ipykernel->jupyter->datasist) (0.8.2)\n",
      "Requirement already satisfied: pyzmq>=13 in c:\\users\\dell\\anaconda3\\lib\\site-packages (from jupyter-client<8.0->ipykernel->jupyter->datasist) (22.2.1)\n",
      "Requirement already satisfied: python-dateutil>=2.1 in c:\\users\\dell\\anaconda3\\lib\\site-packages (from jupyter-client<8.0->ipykernel->jupyter->datasist) (2.8.2)\n",
      "Requirement already satisfied: jupyter-core>=4.6.0 in c:\\users\\dell\\anaconda3\\lib\\site-packages (from jupyter-client<8.0->ipykernel->jupyter->datasist) (4.8.1)\n",
      "Requirement already satisfied: pywin32>=1.0 in c:\\users\\dell\\anaconda3\\lib\\site-packages (from jupyter-core>=4.6.0->jupyter-client<8.0->ipykernel->jupyter->datasist) (228)\n",
      "Requirement already satisfied: wcwidth in c:\\users\\dell\\anaconda3\\lib\\site-packages (from prompt-toolkit!=3.0.0,!=3.0.1,<3.1.0,>=2.0.0->ipython<8.0,>=7.23.1->ipykernel->jupyter->datasist) (0.2.5)\n",
      "Requirement already satisfied: six>=1.5 in c:\\users\\dell\\anaconda3\\lib\\site-packages (from python-dateutil>=2.1->jupyter-client<8.0->ipykernel->jupyter->datasist) (1.16.0)\n",
      "Requirement already satisfied: nbformat>=4.2.0 in c:\\users\\dell\\anaconda3\\lib\\site-packages (from ipywidgets->jupyter->datasist) (5.1.3)\n",
      "Requirement already satisfied: jupyterlab-widgets>=1.0.0 in c:\\users\\dell\\anaconda3\\lib\\site-packages (from ipywidgets->jupyter->datasist) (1.0.0)\n",
      "Requirement already satisfied: widgetsnbextension~=3.5.0 in c:\\users\\dell\\anaconda3\\lib\\site-packages (from ipywidgets->jupyter->datasist) (3.5.1)\n",
      "Requirement already satisfied: jsonschema!=2.5.0,>=2.4 in c:\\users\\dell\\anaconda3\\lib\\site-packages (from nbformat>=4.2.0->ipywidgets->jupyter->datasist) (3.2.0)\n",
      "Requirement already satisfied: pyrsistent>=0.14.0 in c:\\users\\dell\\anaconda3\\lib\\site-packages (from jsonschema!=2.5.0,>=2.4->nbformat>=4.2.0->ipywidgets->jupyter->datasist) (0.18.0)\n",
      "Requirement already satisfied: attrs>=17.4.0 in c:\\users\\dell\\anaconda3\\lib\\site-packages (from jsonschema!=2.5.0,>=2.4->nbformat>=4.2.0->ipywidgets->jupyter->datasist) (21.2.0)\n",
      "Requirement already satisfied: prometheus-client in c:\\users\\dell\\anaconda3\\lib\\site-packages (from notebook->jupyter->datasist) (0.11.0)\n",
      "Requirement already satisfied: Send2Trash>=1.5.0 in c:\\users\\dell\\anaconda3\\lib\\site-packages (from notebook->jupyter->datasist) (1.8.0)\n",
      "Requirement already satisfied: terminado>=0.8.3 in c:\\users\\dell\\anaconda3\\lib\\site-packages (from notebook->jupyter->datasist) (0.9.4)\n",
      "Requirement already satisfied: jinja2 in c:\\users\\dell\\anaconda3\\lib\\site-packages (from notebook->jupyter->datasist) (2.11.3)\n",
      "Requirement already satisfied: argon2-cffi in c:\\users\\dell\\anaconda3\\lib\\site-packages (from notebook->jupyter->datasist) (20.1.0)\n",
      "Requirement already satisfied: pywinpty>=0.5 in c:\\users\\dell\\anaconda3\\lib\\site-packages (from terminado>=0.8.3->notebook->jupyter->datasist) (0.5.7)\n",
      "Requirement already satisfied: cffi>=1.0.0 in c:\\users\\dell\\anaconda3\\lib\\site-packages (from argon2-cffi->notebook->jupyter->datasist) (1.14.6)\n",
      "Requirement already satisfied: pycparser in c:\\users\\dell\\anaconda3\\lib\\site-packages (from cffi>=1.0.0->argon2-cffi->notebook->jupyter->datasist) (2.20)\n",
      "Requirement already satisfied: MarkupSafe>=0.23 in c:\\users\\dell\\anaconda3\\lib\\site-packages (from jinja2->notebook->jupyter->datasist) (1.1.1)\n",
      "Requirement already satisfied: pyparsing>=2.2.1 in c:\\users\\dell\\anaconda3\\lib\\site-packages (from matplotlib->datasist) (3.0.4)\n",
      "Requirement already satisfied: cycler>=0.10 in c:\\users\\dell\\anaconda3\\lib\\site-packages (from matplotlib->datasist) (0.10.0)\n",
      "Requirement already satisfied: pillow>=6.2.0 in c:\\users\\dell\\anaconda3\\lib\\site-packages (from matplotlib->datasist) (8.4.0)\n",
      "Requirement already satisfied: kiwisolver>=1.0.1 in c:\\users\\dell\\anaconda3\\lib\\site-packages (from matplotlib->datasist) (1.3.1)\n",
      "Requirement already satisfied: entrypoints>=0.2.2 in c:\\users\\dell\\anaconda3\\lib\\site-packages (from nbconvert->jupyter->datasist) (0.3)\n",
      "Requirement already satisfied: nbclient<0.6.0,>=0.5.0 in c:\\users\\dell\\anaconda3\\lib\\site-packages (from nbconvert->jupyter->datasist) (0.5.3)\n",
      "Requirement already satisfied: mistune<2,>=0.8.1 in c:\\users\\dell\\anaconda3\\lib\\site-packages (from nbconvert->jupyter->datasist) (0.8.4)\n",
      "Requirement already satisfied: jupyterlab-pygments in c:\\users\\dell\\anaconda3\\lib\\site-packages (from nbconvert->jupyter->datasist) (0.1.2)\n",
      "Requirement already satisfied: testpath in c:\\users\\dell\\anaconda3\\lib\\site-packages (from nbconvert->jupyter->datasist) (0.5.0)\n",
      "Requirement already satisfied: defusedxml in c:\\users\\dell\\anaconda3\\lib\\site-packages (from nbconvert->jupyter->datasist) (0.7.1)\n",
      "Requirement already satisfied: bleach in c:\\users\\dell\\anaconda3\\lib\\site-packages (from nbconvert->jupyter->datasist) (4.0.0)\n",
      "Requirement already satisfied: pandocfilters>=1.4.1 in c:\\users\\dell\\anaconda3\\lib\\site-packages (from nbconvert->jupyter->datasist) (1.4.3)\n",
      "Requirement already satisfied: nest-asyncio in c:\\users\\dell\\anaconda3\\lib\\site-packages (from nbclient<0.6.0,>=0.5.0->nbconvert->jupyter->datasist) (1.5.1)\n",
      "Requirement already satisfied: async-generator in c:\\users\\dell\\anaconda3\\lib\\site-packages (from nbclient<0.6.0,>=0.5.0->nbconvert->jupyter->datasist) (1.10)\n",
      "Requirement already satisfied: webencodings in c:\\users\\dell\\anaconda3\\lib\\site-packages (from bleach->nbconvert->jupyter->datasist) (0.5.1)\n",
      "Requirement already satisfied: packaging in c:\\users\\dell\\anaconda3\\lib\\site-packages (from bleach->nbconvert->jupyter->datasist) (21.0)\n",
      "Requirement already satisfied: click in c:\\users\\dell\\anaconda3\\lib\\site-packages (from nltk->datasist) (8.0.3)\n",
      "Requirement already satisfied: regex>=2021.8.3 in c:\\users\\dell\\anaconda3\\lib\\site-packages (from nltk->datasist) (2021.8.3)\n",
      "Requirement already satisfied: tqdm in c:\\users\\dell\\anaconda3\\lib\\site-packages (from nltk->datasist) (4.62.3)\n",
      "Requirement already satisfied: pytz>=2017.3 in c:\\users\\dell\\anaconda3\\lib\\site-packages (from pandas->datasist) (2021.3)\n",
      "Requirement already satisfied: qtpy in c:\\users\\dell\\anaconda3\\lib\\site-packages (from qtconsole->jupyter->datasist) (1.10.0)\n",
      "Requirement already satisfied: scipy>=0.19.1 in c:\\users\\dell\\anaconda3\\lib\\site-packages (from scikit-learn->datasist) (1.7.1)\n",
      "Requirement already satisfied: threadpoolctl>=2.0.0 in c:\\users\\dell\\anaconda3\\lib\\site-packages (from scikit-learn->datasist) (2.2.0)\n"
     ]
    }
   ],
   "source": [
    "!pip install datasist"
   ]
  },
  {
   "cell_type": "code",
   "execution_count": 9,
   "id": "39bdc9ce",
   "metadata": {},
   "outputs": [],
   "source": [
    "import datasist as ds"
   ]
  },
  {
   "cell_type": "code",
   "execution_count": 10,
   "id": "2afdc03e",
   "metadata": {},
   "outputs": [
    {
     "name": "stdout",
     "output_type": "stream",
     "text": [
      "First five data points\n"
     ]
    },
    {
     "data": {
      "text/html": [
       "<div>\n",
       "<style scoped>\n",
       "    .dataframe tbody tr th:only-of-type {\n",
       "        vertical-align: middle;\n",
       "    }\n",
       "\n",
       "    .dataframe tbody tr th {\n",
       "        vertical-align: top;\n",
       "    }\n",
       "\n",
       "    .dataframe thead th {\n",
       "        text-align: right;\n",
       "    }\n",
       "</style>\n",
       "<table border=\"1\" class=\"dataframe\">\n",
       "  <thead>\n",
       "    <tr style=\"text-align: right;\">\n",
       "      <th></th>\n",
       "      <th>Car_Name</th>\n",
       "      <th>Year</th>\n",
       "      <th>Present_Price</th>\n",
       "      <th>Kms_Driven</th>\n",
       "      <th>Fuel_Type</th>\n",
       "      <th>Seller_Type</th>\n",
       "      <th>Transmission</th>\n",
       "      <th>Owner</th>\n",
       "      <th>Selling_Price</th>\n",
       "    </tr>\n",
       "  </thead>\n",
       "  <tbody>\n",
       "    <tr>\n",
       "      <th>0</th>\n",
       "      <td>Bajaj Dominar 400</td>\n",
       "      <td>2017.0</td>\n",
       "      <td>11613.60</td>\n",
       "      <td>2612.0</td>\n",
       "      <td>Petrol</td>\n",
       "      <td>Individual</td>\n",
       "      <td>Manual</td>\n",
       "      <td>0.0</td>\n",
       "      <td>10913.45</td>\n",
       "    </tr>\n",
       "    <tr>\n",
       "      <th>1</th>\n",
       "      <td>Yamaha Fazer</td>\n",
       "      <td>2014.0</td>\n",
       "      <td>8417.88</td>\n",
       "      <td>8217.0</td>\n",
       "      <td>Petrol</td>\n",
       "      <td>Individual</td>\n",
       "      <td>Manual</td>\n",
       "      <td>0.0</td>\n",
       "      <td>7717.50</td>\n",
       "    </tr>\n",
       "    <tr>\n",
       "      <th>2</th>\n",
       "      <td>Yamaha FZ  v 2.0</td>\n",
       "      <td>2016.0</td>\n",
       "      <td>11814.84</td>\n",
       "      <td>26614.0</td>\n",
       "      <td>Petrol</td>\n",
       "      <td>Individual</td>\n",
       "      <td>Manual</td>\n",
       "      <td>0.0</td>\n",
       "      <td>11114.60</td>\n",
       "    </tr>\n",
       "    <tr>\n",
       "      <th>3</th>\n",
       "      <td>Honda Activa 4G</td>\n",
       "      <td>2017.0</td>\n",
       "      <td>11311.51</td>\n",
       "      <td>5111.0</td>\n",
       "      <td>Petrol</td>\n",
       "      <td>Individual</td>\n",
       "      <td>Automatic</td>\n",
       "      <td>0.0</td>\n",
       "      <td>10611.45</td>\n",
       "    </tr>\n",
       "    <tr>\n",
       "      <th>4</th>\n",
       "      <td>ciaz</td>\n",
       "      <td>2015.0</td>\n",
       "      <td>10484.92</td>\n",
       "      <td>42643.0</td>\n",
       "      <td>Diesel</td>\n",
       "      <td>Dealer</td>\n",
       "      <td>Manual</td>\n",
       "      <td>0.0</td>\n",
       "      <td>9783.45</td>\n",
       "    </tr>\n",
       "  </tbody>\n",
       "</table>\n",
       "</div>"
      ],
      "text/plain": [
       "            Car_Name    Year  Present_Price  Kms_Driven Fuel_Type Seller_Type  \\\n",
       "0  Bajaj Dominar 400  2017.0       11613.60      2612.0    Petrol  Individual   \n",
       "1      Yamaha Fazer   2014.0        8417.88      8217.0    Petrol  Individual   \n",
       "2   Yamaha FZ  v 2.0  2016.0       11814.84     26614.0    Petrol  Individual   \n",
       "3    Honda Activa 4G  2017.0       11311.51      5111.0    Petrol  Individual   \n",
       "4               ciaz  2015.0       10484.92     42643.0    Diesel      Dealer   \n",
       "\n",
       "  Transmission  Owner  Selling_Price  \n",
       "0       Manual    0.0       10913.45  \n",
       "1       Manual    0.0        7717.50  \n",
       "2       Manual    0.0       11114.60  \n",
       "3    Automatic    0.0       10611.45  \n",
       "4       Manual    0.0        9783.45  "
      ]
     },
     "metadata": {},
     "output_type": "display_data"
    },
    {
     "name": "stdout",
     "output_type": "stream",
     "text": [
      "\n",
      "\n",
      "Random five data points\n"
     ]
    },
    {
     "data": {
      "text/html": [
       "<div>\n",
       "<style scoped>\n",
       "    .dataframe tbody tr th:only-of-type {\n",
       "        vertical-align: middle;\n",
       "    }\n",
       "\n",
       "    .dataframe tbody tr th {\n",
       "        vertical-align: top;\n",
       "    }\n",
       "\n",
       "    .dataframe thead th {\n",
       "        text-align: right;\n",
       "    }\n",
       "</style>\n",
       "<table border=\"1\" class=\"dataframe\">\n",
       "  <thead>\n",
       "    <tr style=\"text-align: right;\">\n",
       "      <th></th>\n",
       "      <th>Car_Name</th>\n",
       "      <th>Year</th>\n",
       "      <th>Present_Price</th>\n",
       "      <th>Kms_Driven</th>\n",
       "      <th>Fuel_Type</th>\n",
       "      <th>Seller_Type</th>\n",
       "      <th>Transmission</th>\n",
       "      <th>Owner</th>\n",
       "      <th>Selling_Price</th>\n",
       "    </tr>\n",
       "  </thead>\n",
       "  <tbody>\n",
       "    <tr>\n",
       "      <th>2796</th>\n",
       "      <td>800</td>\n",
       "      <td>2003.0</td>\n",
       "      <td>5025.28</td>\n",
       "      <td>128723.0</td>\n",
       "      <td>Petrol</td>\n",
       "      <td>Individual</td>\n",
       "      <td>Manual</td>\n",
       "      <td>0.0</td>\n",
       "      <td>4323.35</td>\n",
       "    </tr>\n",
       "    <tr>\n",
       "      <th>27230</th>\n",
       "      <td>city</td>\n",
       "      <td>2006.0</td>\n",
       "      <td>6441.60</td>\n",
       "      <td>51690.0</td>\n",
       "      <td>Petrol</td>\n",
       "      <td>Dealer</td>\n",
       "      <td>Manual</td>\n",
       "      <td>0.0</td>\n",
       "      <td>5736.10</td>\n",
       "    </tr>\n",
       "    <tr>\n",
       "      <th>50436</th>\n",
       "      <td>Bajaj Avenger 220 dtsi</td>\n",
       "      <td>2010.0</td>\n",
       "      <td>8944.95</td>\n",
       "      <td>29344.0</td>\n",
       "      <td>Petrol</td>\n",
       "      <td>Individual</td>\n",
       "      <td>Manual</td>\n",
       "      <td>0.0</td>\n",
       "      <td>8244.45</td>\n",
       "    </tr>\n",
       "    <tr>\n",
       "      <th>31985</th>\n",
       "      <td>Bajaj Avenger 150 street</td>\n",
       "      <td>2016.0</td>\n",
       "      <td>10402.80</td>\n",
       "      <td>20202.0</td>\n",
       "      <td>Petrol</td>\n",
       "      <td>Individual</td>\n",
       "      <td>Manual</td>\n",
       "      <td>0.0</td>\n",
       "      <td>9702.60</td>\n",
       "    </tr>\n",
       "    <tr>\n",
       "      <th>25786</th>\n",
       "      <td>etios g</td>\n",
       "      <td>2015.0</td>\n",
       "      <td>11440.80</td>\n",
       "      <td>37234.0</td>\n",
       "      <td>Petrol</td>\n",
       "      <td>Dealer</td>\n",
       "      <td>Manual</td>\n",
       "      <td>0.0</td>\n",
       "      <td>10737.95</td>\n",
       "    </tr>\n",
       "  </tbody>\n",
       "</table>\n",
       "</div>"
      ],
      "text/plain": [
       "                       Car_Name    Year  Present_Price  Kms_Driven Fuel_Type  \\\n",
       "2796                        800  2003.0        5025.28    128723.0    Petrol   \n",
       "27230                      city  2006.0        6441.60     51690.0    Petrol   \n",
       "50436    Bajaj Avenger 220 dtsi  2010.0        8944.95     29344.0    Petrol   \n",
       "31985  Bajaj Avenger 150 street  2016.0       10402.80     20202.0    Petrol   \n",
       "25786                   etios g  2015.0       11440.80     37234.0    Petrol   \n",
       "\n",
       "      Seller_Type Transmission  Owner  Selling_Price  \n",
       "2796   Individual       Manual    0.0        4323.35  \n",
       "27230      Dealer       Manual    0.0        5736.10  \n",
       "50436  Individual       Manual    0.0        8244.45  \n",
       "31985  Individual       Manual    0.0        9702.60  \n",
       "25786      Dealer       Manual    0.0       10737.95  "
      ]
     },
     "metadata": {},
     "output_type": "display_data"
    },
    {
     "name": "stdout",
     "output_type": "stream",
     "text": [
      "\n",
      "\n",
      "Last five data points\n"
     ]
    },
    {
     "data": {
      "text/html": [
       "<div>\n",
       "<style scoped>\n",
       "    .dataframe tbody tr th:only-of-type {\n",
       "        vertical-align: middle;\n",
       "    }\n",
       "\n",
       "    .dataframe tbody tr th {\n",
       "        vertical-align: top;\n",
       "    }\n",
       "\n",
       "    .dataframe thead th {\n",
       "        text-align: right;\n",
       "    }\n",
       "</style>\n",
       "<table border=\"1\" class=\"dataframe\">\n",
       "  <thead>\n",
       "    <tr style=\"text-align: right;\">\n",
       "      <th></th>\n",
       "      <th>Car_Name</th>\n",
       "      <th>Year</th>\n",
       "      <th>Present_Price</th>\n",
       "      <th>Kms_Driven</th>\n",
       "      <th>Fuel_Type</th>\n",
       "      <th>Seller_Type</th>\n",
       "      <th>Transmission</th>\n",
       "      <th>Owner</th>\n",
       "      <th>Selling_Price</th>\n",
       "    </tr>\n",
       "  </thead>\n",
       "  <tbody>\n",
       "    <tr>\n",
       "      <th>99995</th>\n",
       "      <td>swift</td>\n",
       "      <td>2014.0</td>\n",
       "      <td>9998.87</td>\n",
       "      <td>44242.0</td>\n",
       "      <td>Diesel</td>\n",
       "      <td>Dealer</td>\n",
       "      <td>Manual</td>\n",
       "      <td>0.0</td>\n",
       "      <td>9296.60</td>\n",
       "    </tr>\n",
       "    <tr>\n",
       "      <th>99996</th>\n",
       "      <td>innova</td>\n",
       "      <td>2016.0</td>\n",
       "      <td>11384.39</td>\n",
       "      <td>30159.0</td>\n",
       "      <td>Diesel</td>\n",
       "      <td>Dealer</td>\n",
       "      <td>Automatic</td>\n",
       "      <td>0.0</td>\n",
       "      <td>10679.75</td>\n",
       "    </tr>\n",
       "    <tr>\n",
       "      <th>99997</th>\n",
       "      <td>Bajaj Pulsar 220 F</td>\n",
       "      <td>2016.0</td>\n",
       "      <td>11768.94</td>\n",
       "      <td>25568.0</td>\n",
       "      <td>Petrol</td>\n",
       "      <td>Individual</td>\n",
       "      <td>Manual</td>\n",
       "      <td>0.0</td>\n",
       "      <td>11068.51</td>\n",
       "    </tr>\n",
       "    <tr>\n",
       "      <th>99998</th>\n",
       "      <td>city</td>\n",
       "      <td>2009.0</td>\n",
       "      <td>6917.00</td>\n",
       "      <td>88240.0</td>\n",
       "      <td>Petrol</td>\n",
       "      <td>Dealer</td>\n",
       "      <td>Manual</td>\n",
       "      <td>0.0</td>\n",
       "      <td>6209.35</td>\n",
       "    </tr>\n",
       "    <tr>\n",
       "      <th>99999</th>\n",
       "      <td>Honda CB Hornet 160R</td>\n",
       "      <td>2016.0</td>\n",
       "      <td>11253.87</td>\n",
       "      <td>16053.0</td>\n",
       "      <td>Petrol</td>\n",
       "      <td>Individual</td>\n",
       "      <td>Manual</td>\n",
       "      <td>0.0</td>\n",
       "      <td>10553.60</td>\n",
       "    </tr>\n",
       "  </tbody>\n",
       "</table>\n",
       "</div>"
      ],
      "text/plain": [
       "                   Car_Name    Year  Present_Price  Kms_Driven Fuel_Type  \\\n",
       "99995                 swift  2014.0        9998.87     44242.0    Diesel   \n",
       "99996                innova  2016.0       11384.39     30159.0    Diesel   \n",
       "99997    Bajaj Pulsar 220 F  2016.0       11768.94     25568.0    Petrol   \n",
       "99998                  city  2009.0        6917.00     88240.0    Petrol   \n",
       "99999  Honda CB Hornet 160R  2016.0       11253.87     16053.0    Petrol   \n",
       "\n",
       "      Seller_Type Transmission  Owner  Selling_Price  \n",
       "99995      Dealer       Manual    0.0        9296.60  \n",
       "99996      Dealer    Automatic    0.0       10679.75  \n",
       "99997  Individual       Manual    0.0       11068.51  \n",
       "99998      Dealer       Manual    0.0        6209.35  \n",
       "99999  Individual       Manual    0.0       10553.60  "
      ]
     },
     "metadata": {},
     "output_type": "display_data"
    },
    {
     "name": "stdout",
     "output_type": "stream",
     "text": [
      "\n",
      "\n",
      "Shape of  data set: (100000, 9)\n",
      "\n",
      "\n",
      "Size of  data set: 900000\n",
      "\n",
      "\n",
      "Data Types\n",
      "Note: All Non-numerical features are identified as objects in pandas\n"
     ]
    },
    {
     "data": {
      "text/html": [
       "<div>\n",
       "<style scoped>\n",
       "    .dataframe tbody tr th:only-of-type {\n",
       "        vertical-align: middle;\n",
       "    }\n",
       "\n",
       "    .dataframe tbody tr th {\n",
       "        vertical-align: top;\n",
       "    }\n",
       "\n",
       "    .dataframe thead th {\n",
       "        text-align: right;\n",
       "    }\n",
       "</style>\n",
       "<table border=\"1\" class=\"dataframe\">\n",
       "  <thead>\n",
       "    <tr style=\"text-align: right;\">\n",
       "      <th></th>\n",
       "      <th>Data Type</th>\n",
       "    </tr>\n",
       "  </thead>\n",
       "  <tbody>\n",
       "    <tr>\n",
       "      <th>Car_Name</th>\n",
       "      <td>object</td>\n",
       "    </tr>\n",
       "    <tr>\n",
       "      <th>Year</th>\n",
       "      <td>float64</td>\n",
       "    </tr>\n",
       "    <tr>\n",
       "      <th>Present_Price</th>\n",
       "      <td>float64</td>\n",
       "    </tr>\n",
       "    <tr>\n",
       "      <th>Kms_Driven</th>\n",
       "      <td>float64</td>\n",
       "    </tr>\n",
       "    <tr>\n",
       "      <th>Fuel_Type</th>\n",
       "      <td>object</td>\n",
       "    </tr>\n",
       "    <tr>\n",
       "      <th>Seller_Type</th>\n",
       "      <td>object</td>\n",
       "    </tr>\n",
       "    <tr>\n",
       "      <th>Transmission</th>\n",
       "      <td>object</td>\n",
       "    </tr>\n",
       "    <tr>\n",
       "      <th>Owner</th>\n",
       "      <td>float64</td>\n",
       "    </tr>\n",
       "    <tr>\n",
       "      <th>Selling_Price</th>\n",
       "      <td>float64</td>\n",
       "    </tr>\n",
       "  </tbody>\n",
       "</table>\n",
       "</div>"
      ],
      "text/plain": [
       "              Data Type\n",
       "Car_Name         object\n",
       "Year            float64\n",
       "Present_Price   float64\n",
       "Kms_Driven      float64\n",
       "Fuel_Type        object\n",
       "Seller_Type      object\n",
       "Transmission     object\n",
       "Owner           float64\n",
       "Selling_Price   float64"
      ]
     },
     "metadata": {},
     "output_type": "display_data"
    },
    {
     "name": "stdout",
     "output_type": "stream",
     "text": [
      "\n",
      "\n",
      "Numerical Features in Data set\n",
      "['Year', 'Present_Price', 'Kms_Driven', 'Owner', 'Selling_Price']\n",
      "\n",
      "\n",
      "Categorical Features in Data set\n"
     ]
    },
    {
     "data": {
      "text/plain": [
       "['Car_Name', 'Fuel_Type', 'Seller_Type', 'Transmission']"
      ]
     },
     "metadata": {},
     "output_type": "display_data"
    },
    {
     "name": "stdout",
     "output_type": "stream",
     "text": [
      "\n",
      "\n",
      "Statistical Description of Columns\n"
     ]
    },
    {
     "data": {
      "text/html": [
       "<div>\n",
       "<style scoped>\n",
       "    .dataframe tbody tr th:only-of-type {\n",
       "        vertical-align: middle;\n",
       "    }\n",
       "\n",
       "    .dataframe tbody tr th {\n",
       "        vertical-align: top;\n",
       "    }\n",
       "\n",
       "    .dataframe thead th {\n",
       "        text-align: right;\n",
       "    }\n",
       "</style>\n",
       "<table border=\"1\" class=\"dataframe\">\n",
       "  <thead>\n",
       "    <tr style=\"text-align: right;\">\n",
       "      <th></th>\n",
       "      <th>Year</th>\n",
       "      <th>Present_Price</th>\n",
       "      <th>Kms_Driven</th>\n",
       "      <th>Owner</th>\n",
       "      <th>Selling_Price</th>\n",
       "    </tr>\n",
       "  </thead>\n",
       "  <tbody>\n",
       "    <tr>\n",
       "      <th>count</th>\n",
       "      <td>100000.000000</td>\n",
       "      <td>100000.000000</td>\n",
       "      <td>100000.000000</td>\n",
       "      <td>100000.000000</td>\n",
       "      <td>100000.000000</td>\n",
       "    </tr>\n",
       "    <tr>\n",
       "      <th>mean</th>\n",
       "      <td>2014.059300</td>\n",
       "      <td>10454.815579</td>\n",
       "      <td>35544.731010</td>\n",
       "      <td>0.036080</td>\n",
       "      <td>9752.087633</td>\n",
       "    </tr>\n",
       "    <tr>\n",
       "      <th>std</th>\n",
       "      <td>2.592811</td>\n",
       "      <td>1497.176036</td>\n",
       "      <td>35908.164469</td>\n",
       "      <td>0.213913</td>\n",
       "      <td>1498.468367</td>\n",
       "    </tr>\n",
       "    <tr>\n",
       "      <th>min</th>\n",
       "      <td>2003.000000</td>\n",
       "      <td>3405.280000</td>\n",
       "      <td>606.000000</td>\n",
       "      <td>0.000000</td>\n",
       "      <td>2703.350000</td>\n",
       "    </tr>\n",
       "    <tr>\n",
       "      <th>25%</th>\n",
       "      <td>2013.000000</td>\n",
       "      <td>9406.007500</td>\n",
       "      <td>15760.000000</td>\n",
       "      <td>0.000000</td>\n",
       "      <td>8703.250000</td>\n",
       "    </tr>\n",
       "    <tr>\n",
       "      <th>50%</th>\n",
       "      <td>2015.000000</td>\n",
       "      <td>10628.705000</td>\n",
       "      <td>30595.500000</td>\n",
       "      <td>0.000000</td>\n",
       "      <td>9926.700000</td>\n",
       "    </tr>\n",
       "    <tr>\n",
       "      <th>75%</th>\n",
       "      <td>2016.000000</td>\n",
       "      <td>11639.782500</td>\n",
       "      <td>46476.000000</td>\n",
       "      <td>0.000000</td>\n",
       "      <td>10938.120000</td>\n",
       "    </tr>\n",
       "    <tr>\n",
       "      <th>max</th>\n",
       "      <td>2018.000000</td>\n",
       "      <td>12731.230000</td>\n",
       "      <td>502479.000000</td>\n",
       "      <td>3.000000</td>\n",
       "      <td>12028.000000</td>\n",
       "    </tr>\n",
       "  </tbody>\n",
       "</table>\n",
       "</div>"
      ],
      "text/plain": [
       "                Year  Present_Price     Kms_Driven          Owner  \\\n",
       "count  100000.000000  100000.000000  100000.000000  100000.000000   \n",
       "mean     2014.059300   10454.815579   35544.731010       0.036080   \n",
       "std         2.592811    1497.176036   35908.164469       0.213913   \n",
       "min      2003.000000    3405.280000     606.000000       0.000000   \n",
       "25%      2013.000000    9406.007500   15760.000000       0.000000   \n",
       "50%      2015.000000   10628.705000   30595.500000       0.000000   \n",
       "75%      2016.000000   11639.782500   46476.000000       0.000000   \n",
       "max      2018.000000   12731.230000  502479.000000       3.000000   \n",
       "\n",
       "       Selling_Price  \n",
       "count  100000.000000  \n",
       "mean     9752.087633  \n",
       "std      1498.468367  \n",
       "min      2703.350000  \n",
       "25%      8703.250000  \n",
       "50%      9926.700000  \n",
       "75%     10938.120000  \n",
       "max     12028.000000  "
      ]
     },
     "metadata": {},
     "output_type": "display_data"
    },
    {
     "name": "stdout",
     "output_type": "stream",
     "text": [
      "\n",
      "\n",
      "Description of Categorical Features\n"
     ]
    },
    {
     "data": {
      "text/html": [
       "<div>\n",
       "<style scoped>\n",
       "    .dataframe tbody tr th:only-of-type {\n",
       "        vertical-align: middle;\n",
       "    }\n",
       "\n",
       "    .dataframe tbody tr th {\n",
       "        vertical-align: top;\n",
       "    }\n",
       "\n",
       "    .dataframe thead th {\n",
       "        text-align: right;\n",
       "    }\n",
       "</style>\n",
       "<table border=\"1\" class=\"dataframe\">\n",
       "  <thead>\n",
       "    <tr style=\"text-align: right;\">\n",
       "      <th></th>\n",
       "      <th>count</th>\n",
       "      <th>unique</th>\n",
       "      <th>top</th>\n",
       "      <th>freq</th>\n",
       "    </tr>\n",
       "  </thead>\n",
       "  <tbody>\n",
       "    <tr>\n",
       "      <th>Car_Name</th>\n",
       "      <td>100000</td>\n",
       "      <td>98</td>\n",
       "      <td>city</td>\n",
       "      <td>8919</td>\n",
       "    </tr>\n",
       "    <tr>\n",
       "      <th>Fuel_Type</th>\n",
       "      <td>100000</td>\n",
       "      <td>3</td>\n",
       "      <td>Petrol</td>\n",
       "      <td>78995</td>\n",
       "    </tr>\n",
       "    <tr>\n",
       "      <th>Seller_Type</th>\n",
       "      <td>100000</td>\n",
       "      <td>2</td>\n",
       "      <td>Dealer</td>\n",
       "      <td>65615</td>\n",
       "    </tr>\n",
       "    <tr>\n",
       "      <th>Transmission</th>\n",
       "      <td>100000</td>\n",
       "      <td>2</td>\n",
       "      <td>Manual</td>\n",
       "      <td>86541</td>\n",
       "    </tr>\n",
       "  </tbody>\n",
       "</table>\n",
       "</div>"
      ],
      "text/plain": [
       "               count unique     top   freq\n",
       "Car_Name      100000     98    city   8919\n",
       "Fuel_Type     100000      3  Petrol  78995\n",
       "Seller_Type   100000      2  Dealer  65615\n",
       "Transmission  100000      2  Manual  86541"
      ]
     },
     "metadata": {},
     "output_type": "display_data"
    },
    {
     "name": "stdout",
     "output_type": "stream",
     "text": [
      "\n",
      "\n",
      "Unique class Count of Categorical features\n"
     ]
    },
    {
     "data": {
      "text/html": [
       "<style type=\"text/css\">\n",
       "#T_e76fc_row0_col1 {\n",
       "  width: 10em;\n",
       "  height: 80%;\n",
       "  background: linear-gradient(90deg,#d65f5f 100.0%, transparent 100.0%);\n",
       "}\n",
       "#T_e76fc_row1_col1 {\n",
       "  width: 10em;\n",
       "  height: 80%;\n",
       "  background: linear-gradient(90deg,#d65f5f 3.1%, transparent 3.1%);\n",
       "}\n",
       "#T_e76fc_row2_col1, #T_e76fc_row3_col1 {\n",
       "  width: 10em;\n",
       "  height: 80%;\n",
       "  background: linear-gradient(90deg,#d65f5f 2.0%, transparent 2.0%);\n",
       "}\n",
       "</style>\n",
       "<table id=\"T_e76fc_\">\n",
       "  <thead>\n",
       "    <tr>\n",
       "      <th class=\"blank level0\" >&nbsp;</th>\n",
       "      <th class=\"col_heading level0 col0\" >Feature</th>\n",
       "      <th class=\"col_heading level0 col1\" >Unique Count</th>\n",
       "    </tr>\n",
       "  </thead>\n",
       "  <tbody>\n",
       "    <tr>\n",
       "      <th id=\"T_e76fc_level0_row0\" class=\"row_heading level0 row0\" >0</th>\n",
       "      <td id=\"T_e76fc_row0_col0\" class=\"data row0 col0\" >Car_Name</td>\n",
       "      <td id=\"T_e76fc_row0_col1\" class=\"data row0 col1\" >98</td>\n",
       "    </tr>\n",
       "    <tr>\n",
       "      <th id=\"T_e76fc_level0_row1\" class=\"row_heading level0 row1\" >1</th>\n",
       "      <td id=\"T_e76fc_row1_col0\" class=\"data row1 col0\" >Fuel_Type</td>\n",
       "      <td id=\"T_e76fc_row1_col1\" class=\"data row1 col1\" >3</td>\n",
       "    </tr>\n",
       "    <tr>\n",
       "      <th id=\"T_e76fc_level0_row2\" class=\"row_heading level0 row2\" >2</th>\n",
       "      <td id=\"T_e76fc_row2_col0\" class=\"data row2 col0\" >Seller_Type</td>\n",
       "      <td id=\"T_e76fc_row2_col1\" class=\"data row2 col1\" >2</td>\n",
       "    </tr>\n",
       "    <tr>\n",
       "      <th id=\"T_e76fc_level0_row3\" class=\"row_heading level0 row3\" >3</th>\n",
       "      <td id=\"T_e76fc_row3_col0\" class=\"data row3 col0\" >Transmission</td>\n",
       "      <td id=\"T_e76fc_row3_col1\" class=\"data row3 col1\" >2</td>\n",
       "    </tr>\n",
       "  </tbody>\n",
       "</table>\n"
      ],
      "text/plain": [
       "<pandas.io.formats.style.Styler at 0x20d9b076970>"
      ]
     },
     "metadata": {},
     "output_type": "display_data"
    },
    {
     "name": "stdout",
     "output_type": "stream",
     "text": [
      "\n",
      "\n",
      "Missing Values in Data\n"
     ]
    },
    {
     "data": {
      "text/html": [
       "<div>\n",
       "<style scoped>\n",
       "    .dataframe tbody tr th:only-of-type {\n",
       "        vertical-align: middle;\n",
       "    }\n",
       "\n",
       "    .dataframe tbody tr th {\n",
       "        vertical-align: top;\n",
       "    }\n",
       "\n",
       "    .dataframe thead th {\n",
       "        text-align: right;\n",
       "    }\n",
       "</style>\n",
       "<table border=\"1\" class=\"dataframe\">\n",
       "  <thead>\n",
       "    <tr style=\"text-align: right;\">\n",
       "      <th></th>\n",
       "      <th>features</th>\n",
       "      <th>missing_counts</th>\n",
       "      <th>missing_percent</th>\n",
       "    </tr>\n",
       "  </thead>\n",
       "  <tbody>\n",
       "    <tr>\n",
       "      <th>0</th>\n",
       "      <td>Car_Name</td>\n",
       "      <td>0</td>\n",
       "      <td>0.0</td>\n",
       "    </tr>\n",
       "    <tr>\n",
       "      <th>1</th>\n",
       "      <td>Year</td>\n",
       "      <td>0</td>\n",
       "      <td>0.0</td>\n",
       "    </tr>\n",
       "    <tr>\n",
       "      <th>2</th>\n",
       "      <td>Present_Price</td>\n",
       "      <td>0</td>\n",
       "      <td>0.0</td>\n",
       "    </tr>\n",
       "    <tr>\n",
       "      <th>3</th>\n",
       "      <td>Kms_Driven</td>\n",
       "      <td>0</td>\n",
       "      <td>0.0</td>\n",
       "    </tr>\n",
       "    <tr>\n",
       "      <th>4</th>\n",
       "      <td>Fuel_Type</td>\n",
       "      <td>0</td>\n",
       "      <td>0.0</td>\n",
       "    </tr>\n",
       "    <tr>\n",
       "      <th>5</th>\n",
       "      <td>Seller_Type</td>\n",
       "      <td>0</td>\n",
       "      <td>0.0</td>\n",
       "    </tr>\n",
       "    <tr>\n",
       "      <th>6</th>\n",
       "      <td>Transmission</td>\n",
       "      <td>0</td>\n",
       "      <td>0.0</td>\n",
       "    </tr>\n",
       "    <tr>\n",
       "      <th>7</th>\n",
       "      <td>Owner</td>\n",
       "      <td>0</td>\n",
       "      <td>0.0</td>\n",
       "    </tr>\n",
       "    <tr>\n",
       "      <th>8</th>\n",
       "      <td>Selling_Price</td>\n",
       "      <td>0</td>\n",
       "      <td>0.0</td>\n",
       "    </tr>\n",
       "  </tbody>\n",
       "</table>\n",
       "</div>"
      ],
      "text/plain": [
       "        features  missing_counts  missing_percent\n",
       "0       Car_Name               0              0.0\n",
       "1           Year               0              0.0\n",
       "2  Present_Price               0              0.0\n",
       "3     Kms_Driven               0              0.0\n",
       "4      Fuel_Type               0              0.0\n",
       "5    Seller_Type               0              0.0\n",
       "6   Transmission               0              0.0\n",
       "7          Owner               0              0.0\n",
       "8  Selling_Price               0              0.0"
      ]
     },
     "metadata": {},
     "output_type": "display_data"
    }
   ],
   "source": [
    "ds.structdata.describe(data)"
   ]
  },
  {
   "cell_type": "code",
   "execution_count": 11,
   "id": "c8769148",
   "metadata": {},
   "outputs": [
    {
     "name": "stdout",
     "output_type": "stream",
     "text": [
      "Unique Values in Car_Name is too large to plot\n",
      "\n",
      "\n"
     ]
    },
    {
     "data": {
      "image/png": "[encoded data removed]",
      "text/plain": [
       "<Figure size 360x360 with 1 Axes>"
      ]
     },
     "metadata": {
      "needs_background": "light"
     },
     "output_type": "display_data"
    },
    {
     "data": {
      "image/png": "[encoded data removed]",
      "text/plain": [
       "<Figure size 360x360 with 1 Axes>"
      ]
     },
     "metadata": {
      "needs_background": "light"
     },
     "output_type": "display_data"
    },
    {
     "data": {
      "image/png": "[encoded data removed]",
      "text/plain": [
       "<Figure size 360x360 with 1 Axes>"
      ]
     },
     "metadata": {
      "needs_background": "light"
     },
     "output_type": "display_data"
    }
   ],
   "source": [
    "ds.visualizations.countplot(data)"
   ]
  },
  {
   "cell_type": "code",
   "execution_count": 12,
   "id": "6be5d4e6",
   "metadata": {},
   "outputs": [
    {
     "name": "stdout",
     "output_type": "stream",
     "text": [
      "Unique Values in Car_Name is too large to plot\n",
      "\n",
      "\n"
     ]
    },
    {
     "data": {
      "image/png": "[encoded data removed]",
      "text/plain": [
       "<Figure size 360x360 with 1 Axes>"
      ]
     },
     "metadata": {
      "needs_background": "light"
     },
     "output_type": "display_data"
    },
    {
     "data": {
      "image/png": "[encoded data removed]",
      "text/plain": [
       "<Figure size 360x360 with 1 Axes>"
      ]
     },
     "metadata": {
      "needs_background": "light"
     },
     "output_type": "display_data"
    },
    {
     "data": {
      "image/png": "[encoded data removed]",
      "text/plain": [
       "<Figure size 360x360 with 1 Axes>"
      ]
     },
     "metadata": {
      "needs_background": "light"
     },
     "output_type": "display_data"
    }
   ],
   "source": [
    "ds.visualizations.countplot(data, separate_by='Seller_Type')"
   ]
  },
  {
   "cell_type": "markdown",
   "id": "62b90623",
   "metadata": {},
   "source": [
    "## FEATURE ENGINEERING\n",
    "\n",
    "\n",
    "\n",
    "### Feature Engineering_Involves using domain knowledge for selecting and transforming features from raw data before training an algorithm_"
   ]
  },
  {
   "cell_type": "code",
   "execution_count": 13,
   "id": "477c684b",
   "metadata": {},
   "outputs": [
    {
     "data": {
      "text/html": [
       "<div>\n",
       "<style scoped>\n",
       "    .dataframe tbody tr th:only-of-type {\n",
       "        vertical-align: middle;\n",
       "    }\n",
       "\n",
       "    .dataframe tbody tr th {\n",
       "        vertical-align: top;\n",
       "    }\n",
       "\n",
       "    .dataframe thead th {\n",
       "        text-align: right;\n",
       "    }\n",
       "</style>\n",
       "<table border=\"1\" class=\"dataframe\">\n",
       "  <thead>\n",
       "    <tr style=\"text-align: right;\">\n",
       "      <th></th>\n",
       "      <th>features</th>\n",
       "      <th>missing_counts</th>\n",
       "      <th>missing_percent</th>\n",
       "    </tr>\n",
       "  </thead>\n",
       "  <tbody>\n",
       "    <tr>\n",
       "      <th>0</th>\n",
       "      <td>Car_Name</td>\n",
       "      <td>0</td>\n",
       "      <td>0.0</td>\n",
       "    </tr>\n",
       "    <tr>\n",
       "      <th>1</th>\n",
       "      <td>Year</td>\n",
       "      <td>0</td>\n",
       "      <td>0.0</td>\n",
       "    </tr>\n",
       "    <tr>\n",
       "      <th>2</th>\n",
       "      <td>Present_Price</td>\n",
       "      <td>0</td>\n",
       "      <td>0.0</td>\n",
       "    </tr>\n",
       "    <tr>\n",
       "      <th>3</th>\n",
       "      <td>Kms_Driven</td>\n",
       "      <td>0</td>\n",
       "      <td>0.0</td>\n",
       "    </tr>\n",
       "    <tr>\n",
       "      <th>4</th>\n",
       "      <td>Fuel_Type</td>\n",
       "      <td>0</td>\n",
       "      <td>0.0</td>\n",
       "    </tr>\n",
       "    <tr>\n",
       "      <th>5</th>\n",
       "      <td>Seller_Type</td>\n",
       "      <td>0</td>\n",
       "      <td>0.0</td>\n",
       "    </tr>\n",
       "    <tr>\n",
       "      <th>6</th>\n",
       "      <td>Transmission</td>\n",
       "      <td>0</td>\n",
       "      <td>0.0</td>\n",
       "    </tr>\n",
       "    <tr>\n",
       "      <th>7</th>\n",
       "      <td>Owner</td>\n",
       "      <td>0</td>\n",
       "      <td>0.0</td>\n",
       "    </tr>\n",
       "    <tr>\n",
       "      <th>8</th>\n",
       "      <td>Selling_Price</td>\n",
       "      <td>0</td>\n",
       "      <td>0.0</td>\n",
       "    </tr>\n",
       "  </tbody>\n",
       "</table>\n",
       "</div>"
      ],
      "text/plain": [
       "        features  missing_counts  missing_percent\n",
       "0       Car_Name               0              0.0\n",
       "1           Year               0              0.0\n",
       "2  Present_Price               0              0.0\n",
       "3     Kms_Driven               0              0.0\n",
       "4      Fuel_Type               0              0.0\n",
       "5    Seller_Type               0              0.0\n",
       "6   Transmission               0              0.0\n",
       "7          Owner               0              0.0\n",
       "8  Selling_Price               0              0.0"
      ]
     },
     "execution_count": 13,
     "metadata": {},
     "output_type": "execute_result"
    }
   ],
   "source": [
    "ds.structdata.display_missing(data)"
   ]
  },
  {
   "cell_type": "code",
   "execution_count": 14,
   "id": "dc67aa49",
   "metadata": {},
   "outputs": [],
   "source": [
    "data=ds.feature_engineering.fill_missing_cats(data)\n",
    "data=ds.feature_engineering.fill_missing_num(data)"
   ]
  },
  {
   "cell_type": "code",
   "execution_count": 15,
   "id": "43e0117a",
   "metadata": {},
   "outputs": [],
   "source": [
    "#removing car name and present price because it is not really useful for our prediction\n",
    "\n",
    "data=data[['Year','Selling_Price','Kms_Driven','Fuel_Type','Seller_Type','Transmission','Owner']]"
   ]
  },
  {
   "cell_type": "code",
   "execution_count": 19,
   "id": "90751629",
   "metadata": {},
   "outputs": [],
   "source": [
    "data=pd.get_dummies(data,drop_first=True)"
   ]
  },
  {
   "cell_type": "code",
   "execution_count": 20,
   "id": "4f5a1814",
   "metadata": {},
   "outputs": [
    {
     "data": {
      "text/html": [
       "<div>\n",
       "<style scoped>\n",
       "    .dataframe tbody tr th:only-of-type {\n",
       "        vertical-align: middle;\n",
       "    }\n",
       "\n",
       "    .dataframe tbody tr th {\n",
       "        vertical-align: top;\n",
       "    }\n",
       "\n",
       "    .dataframe thead th {\n",
       "        text-align: right;\n",
       "    }\n",
       "</style>\n",
       "<table border=\"1\" class=\"dataframe\">\n",
       "  <thead>\n",
       "    <tr style=\"text-align: right;\">\n",
       "      <th></th>\n",
       "      <th>Year</th>\n",
       "      <th>Selling_Price</th>\n",
       "      <th>Kms_Driven</th>\n",
       "      <th>Owner</th>\n",
       "      <th>Fuel_Type_Diesel</th>\n",
       "      <th>Fuel_Type_Petrol</th>\n",
       "      <th>Seller_Type_Individual</th>\n",
       "      <th>Transmission_Manual</th>\n",
       "    </tr>\n",
       "  </thead>\n",
       "  <tbody>\n",
       "    <tr>\n",
       "      <th>0</th>\n",
       "      <td>2017.0</td>\n",
       "      <td>10913.45</td>\n",
       "      <td>2612.0</td>\n",
       "      <td>0.0</td>\n",
       "      <td>0</td>\n",
       "      <td>1</td>\n",
       "      <td>1</td>\n",
       "      <td>1</td>\n",
       "    </tr>\n",
       "    <tr>\n",
       "      <th>1</th>\n",
       "      <td>2014.0</td>\n",
       "      <td>7717.50</td>\n",
       "      <td>8217.0</td>\n",
       "      <td>0.0</td>\n",
       "      <td>0</td>\n",
       "      <td>1</td>\n",
       "      <td>1</td>\n",
       "      <td>1</td>\n",
       "    </tr>\n",
       "    <tr>\n",
       "      <th>2</th>\n",
       "      <td>2016.0</td>\n",
       "      <td>11114.60</td>\n",
       "      <td>26614.0</td>\n",
       "      <td>0.0</td>\n",
       "      <td>0</td>\n",
       "      <td>1</td>\n",
       "      <td>1</td>\n",
       "      <td>1</td>\n",
       "    </tr>\n",
       "    <tr>\n",
       "      <th>3</th>\n",
       "      <td>2017.0</td>\n",
       "      <td>10611.45</td>\n",
       "      <td>5111.0</td>\n",
       "      <td>0.0</td>\n",
       "      <td>0</td>\n",
       "      <td>1</td>\n",
       "      <td>1</td>\n",
       "      <td>0</td>\n",
       "    </tr>\n",
       "    <tr>\n",
       "      <th>4</th>\n",
       "      <td>2015.0</td>\n",
       "      <td>9783.45</td>\n",
       "      <td>42643.0</td>\n",
       "      <td>0.0</td>\n",
       "      <td>1</td>\n",
       "      <td>0</td>\n",
       "      <td>0</td>\n",
       "      <td>1</td>\n",
       "    </tr>\n",
       "  </tbody>\n",
       "</table>\n",
       "</div>"
      ],
      "text/plain": [
       "     Year  Selling_Price  Kms_Driven  Owner  Fuel_Type_Diesel  \\\n",
       "0  2017.0       10913.45      2612.0    0.0                 0   \n",
       "1  2014.0        7717.50      8217.0    0.0                 0   \n",
       "2  2016.0       11114.60     26614.0    0.0                 0   \n",
       "3  2017.0       10611.45      5111.0    0.0                 0   \n",
       "4  2015.0        9783.45     42643.0    0.0                 1   \n",
       "\n",
       "   Fuel_Type_Petrol  Seller_Type_Individual  Transmission_Manual  \n",
       "0                 1                       1                    1  \n",
       "1                 1                       1                    1  \n",
       "2                 1                       1                    1  \n",
       "3                 1                       1                    0  \n",
       "4                 0                       0                    1  "
      ]
     },
     "execution_count": 20,
     "metadata": {},
     "output_type": "execute_result"
    }
   ],
   "source": [
    "data.head()"
   ]
  },
  {
   "cell_type": "markdown",
   "id": "3ac57e27",
   "metadata": {},
   "source": [
    "## Correlation plot"
   ]
  },
  {
   "cell_type": "code",
   "execution_count": 21,
   "id": "8874084c",
   "metadata": {},
   "outputs": [],
   "source": [
    "from matplotlib import pyplot as plt\n",
    "import seaborn as Sbs"
   ]
  },
  {
   "cell_type": "code",
   "execution_count": 28,
   "id": "ae018c12",
   "metadata": {},
   "outputs": [
    {
     "data": {
      "text/plain": [
       "<AxesSubplot:>"
      ]
     },
     "execution_count": 28,
     "metadata": {},
     "output_type": "execute_result"
    },
    {
     "data": {
      "image/png": "[encoded data removed]",
      "text/plain": [
       "<Figure size 1152x432 with 2 Axes>"
      ]
     },
     "metadata": {
      "needs_background": "light"
     },
     "output_type": "display_data"
    }
   ],
   "source": [
    "plt.rcParams['figure.figsize']=[16,6]\n",
    "pd.set_option('display.max_columns',None)\n",
    "Sbs.heatmap(data.corr(),annot=True)"
   ]
  },
  {
   "cell_type": "markdown",
   "id": "6bb188a9",
   "metadata": {},
   "source": [
    "## Preparing for modelling"
   ]
  },
  {
   "cell_type": "code",
   "execution_count": 29,
   "id": "4c75a63b",
   "metadata": {},
   "outputs": [
    {
     "data": {
      "text/plain": [
       "Year                      float64\n",
       "Selling_Price             float64\n",
       "Kms_Driven                float64\n",
       "Owner                     float64\n",
       "Fuel_Type_Diesel            uint8\n",
       "Fuel_Type_Petrol            uint8\n",
       "Seller_Type_Individual      uint8\n",
       "Transmission_Manual         uint8\n",
       "dtype: object"
      ]
     },
     "execution_count": 29,
     "metadata": {},
     "output_type": "execute_result"
    }
   ],
   "source": [
    "data.dtypes"
   ]
  },
  {
   "cell_type": "code",
   "execution_count": 30,
   "id": "c53429e0",
   "metadata": {},
   "outputs": [
    {
     "data": {
      "text/plain": [
       "Index(['Year', 'Selling_Price', 'Kms_Driven', 'Owner', 'Fuel_Type_Diesel',\n",
       "       'Fuel_Type_Petrol', 'Seller_Type_Individual', 'Transmission_Manual'],\n",
       "      dtype='object')"
      ]
     },
     "execution_count": 30,
     "metadata": {},
     "output_type": "execute_result"
    }
   ],
   "source": [
    "data.columns"
   ]
  },
  {
   "cell_type": "code",
   "execution_count": 31,
   "id": "45440e1f",
   "metadata": {},
   "outputs": [],
   "source": [
    "data.Fuel_Type_Diesel=data.Fuel_Type_Diesel.astype(int)\n",
    "data.Fuel_Type_Diesel=data.Fuel_Type_Petrol.astype(int)\n",
    "data.Seller_Type_Individual=data.Seller_Type_Individual.astype(int)\n",
    "data.Transmission_Manual=data.Transmission_Manual.astype(int)\n",
    "\n",
    "\n"
   ]
  },
  {
   "cell_type": "code",
   "execution_count": 33,
   "id": "bb25f2bf",
   "metadata": {},
   "outputs": [
    {
     "data": {
      "text/plain": [
       "Year                      float64\n",
       "Selling_Price             float64\n",
       "Kms_Driven                float64\n",
       "Owner                     float64\n",
       "Fuel_Type_Diesel            int32\n",
       "Fuel_Type_Petrol            uint8\n",
       "Seller_Type_Individual      int32\n",
       "Transmission_Manual         int32\n",
       "dtype: object"
      ]
     },
     "execution_count": 33,
     "metadata": {},
     "output_type": "execute_result"
    }
   ],
   "source": [
    "data.dtypes"
   ]
  },
  {
   "cell_type": "markdown",
   "id": "1f2fbb65",
   "metadata": {},
   "source": [
    "## X=Features Y =target"
   ]
  },
  {
   "cell_type": "code",
   "execution_count": 49,
   "id": "710e4f8b",
   "metadata": {},
   "outputs": [],
   "source": [
    "X=data.drop(['Selling_Price'], axis=1)\n",
    "Y=data.Selling_Price\n"
   ]
  },
  {
   "cell_type": "code",
   "execution_count": 51,
   "id": "e66c5b56",
   "metadata": {},
   "outputs": [],
   "source": [
    "from sklearn.model_selection import train_test_split\n",
    "xtrain,xtest,ytrain,ytest = train_test_split(X, Y, test_size=0.3,random_state=0)\n"
   ]
  },
  {
   "cell_type": "markdown",
   "id": "c37313b4",
   "metadata": {},
   "source": [
    "# Modelling\n",
    "\n",
    "## xtrain = this data set contains the predictors for the train dataset\n",
    "## ytrain =this is the target variable within the training set\n",
    "## xtest  =this data set contains the predictors for the test dataset\n",
    "## ytest=this is the target variable within the test set"
   ]
  },
  {
   "cell_type": "code",
   "execution_count": 52,
   "id": "54d480e7",
   "metadata": {},
   "outputs": [],
   "source": [
    "from sklearn.ensemble import RandomForestRegressor"
   ]
  },
  {
   "cell_type": "code",
   "execution_count": 53,
   "id": "f940bcfa",
   "metadata": {},
   "outputs": [
    {
     "data": {
      "text/plain": [
       "RandomForestRegressor()"
      ]
     },
     "execution_count": 53,
     "metadata": {},
     "output_type": "execute_result"
    }
   ],
   "source": [
    "model = RandomForestRegressor()\n",
    "model.fit(xtrain,ytrain)"
   ]
  },
  {
   "cell_type": "code",
   "execution_count": 54,
   "id": "89919f45",
   "metadata": {},
   "outputs": [],
   "source": [
    "prediction = model.predict(xtest)"
   ]
  },
  {
   "cell_type": "markdown",
   "id": "cd482b1c",
   "metadata": {},
   "source": [
    "### Evaluation USING Sklearn Metrics"
   ]
  },
  {
   "cell_type": "code",
   "execution_count": 55,
   "id": "0a3fcb95",
   "metadata": {},
   "outputs": [],
   "source": [
    "from sklearn import metrics"
   ]
  },
  {
   "cell_type": "markdown",
   "id": "0cbd5ac0",
   "metadata": {},
   "source": [
    "#### Running ROOT MEANSQUARE USING NUMPY"
   ]
  },
  {
   "cell_type": "code",
   "execution_count": 56,
   "id": "aa91a141",
   "metadata": {},
   "outputs": [
    {
     "name": "stdout",
     "output_type": "stream",
     "text": [
      "RMSE: 381.14586358084455\n"
     ]
    }
   ],
   "source": [
    "import numpy as np\n",
    "print('RMSE:', np.sqrt(metrics.mean_squared_error(ytest, prediction)))"
   ]
  },
  {
   "cell_type": "code",
   "execution_count": 59,
   "id": "7eee19de",
   "metadata": {},
   "outputs": [
    {
     "data": {
      "image/png": "[encoded data removed]",
      "text/plain": [
       "<Figure size 1440x360 with 1 Axes>"
      ]
     },
     "metadata": {
      "needs_background": "light"
     },
     "output_type": "display_data"
    }
   ],
   "source": [
    "# feature Importance:Getting to know the variables that contributes most to the predictive power of the model. \n",
    "feat_importances = pd.Series(model.feature_importances_, index=xtrain.columns)\n",
    "feat_importances.nlargest(5).plot(kind='barh', figsize=(20,5))\n",
    "plt.show()"
   ]
  },
  {
   "cell_type": "markdown",
   "id": "ec3e0f05",
   "metadata": {},
   "source": [
    "## Saving the Model as Pickle File"
   ]
  },
  {
   "cell_type": "code",
   "execution_count": 60,
   "id": "f9f452a5",
   "metadata": {},
   "outputs": [],
   "source": [
    "import pickle\n",
    "file = open('rfmodel.pkl','wb')\n",
    "pickle.dump(model,file)"
   ]
  },
  {
   "cell_type": "code",
   "execution_count": null,
   "id": "f9a8b811",
   "metadata": {},
   "outputs": [],
   "source": []
  }
 ],
 "metadata": {
  "kernelspec": {
   "display_name": "Python 3 (ipykernel)",
   "language": "python",
   "name": "python3"
  },
  "language_info": {
   "codemirror_mode": {
    "name": "ipython",
    "version": 3
   },
   "file_extension": ".py",
   "mimetype": "text/x-python",
   "name": "python",
   "nbconvert_exporter": "python",
   "pygments_lexer": "ipython3",
   "version": "3.9.7"
  }
 },
 "nbformat": 4,
 "nbformat_minor": 5
}
